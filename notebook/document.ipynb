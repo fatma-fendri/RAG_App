{
 "cells": [
  {
   "cell_type": "markdown",
   "id": "77aa1b1d",
   "metadata": {},
   "source": [
    "### Data Ingestion "
   ]
  },
  {
   "cell_type": "code",
   "execution_count": null,
   "id": "62e597c8",
   "metadata": {},
   "outputs": [],
   "source": [
    "###Document Data structure\n",
    "\n",
    "from langchain_core.documents import Document"
   ]
  },
  {
   "cell_type": "code",
   "execution_count": 7,
   "id": "c8a13d4a",
   "metadata": {},
   "outputs": [
    {
     "data": {
      "text/plain": [
       "Document(metadata={'source': 'example.txt', 'pages': 1, 'author': 'Fatma Fendri', 'date_created': '2025-01-01'}, page_content='this is the main text content I am using to create RAG')"
      ]
     },
     "execution_count": 7,
     "metadata": {},
     "output_type": "execute_result"
    }
   ],
   "source": [
    "doc=Document(\n",
    "    page_content=\"this is the main text content I am using to create RAG\",\n",
    "    metadata = {\n",
    "        \"source\":\"example.txt\",\n",
    "        \"pages\":1,\n",
    "        \"author\":\"Fatma Fendri\",\n",
    "        \"date_created\":\"2025-01-01\"\n",
    "    }\n",
    ")\n",
    "doc"
   ]
  },
  {
   "cell_type": "code",
   "execution_count": 13,
   "id": "bfae1f5e",
   "metadata": {},
   "outputs": [],
   "source": [
    "### create a simple txt file\n",
    "import os\n",
    "os.makedirs(\"../data/text_files\",exist_ok=True)"
   ]
  },
  {
   "cell_type": "code",
   "execution_count": 15,
   "id": "a694fba6",
   "metadata": {},
   "outputs": [
    {
     "name": "stdout",
     "output_type": "stream",
     "text": [
      "✅ Sample text files created!\n"
     ]
    }
   ],
   "source": [
    "sample_texts={\n",
    "    \"../data/text_files/python_intro.txt\":\"\"\"Python Programming Introduction\n",
    "\n",
    "Python is a high-level, interpreted programming language known for its simplicity and readability.\n",
    "Created by Guido van Rossum and first released in 1991, Python has become one of the most popular\n",
    "programming languages in the world.\n",
    "\n",
    "Key Features:\n",
    "- Easy to learn and use\n",
    "- Extensive standard library\n",
    "- Cross-platform compatibility\n",
    "- Strong community support\n",
    "\n",
    "Python is widely used in web development, data science, artificial intelligence, and automation.\"\"\",\n",
    "    \n",
    "    \"../data/text_files/machine_learning.txt\": \"\"\"Machine Learning Basics\n",
    "\n",
    "Machine learning is a subset of artificial intelligence that enables systems to learn and improve\n",
    "from experience without being explicitly programmed. It focuses on developing computer programs\n",
    "that can access data and use it to learn for themselves.\n",
    "\n",
    "Types of Machine Learning:\n",
    "1. Supervised Learning: Learning with labeled data\n",
    "2. Unsupervised Learning: Finding patterns in unlabeled data\n",
    "3. Reinforcement Learning: Learning through rewards and penalties\n",
    "\n",
    "Applications include image recognition, speech processing, and recommendation systems\n",
    "    \n",
    "    \n",
    "    \"\"\"\n",
    "\n",
    "}\n",
    "\n",
    "for filepath,content in sample_texts.items():\n",
    "    with open(filepath, 'w',encoding=\"utf-8\") as f:\n",
    "        f.write(content)\n",
    "\n",
    "print(\"✅ Sample text files created!\") \n"
   ]
  },
  {
   "cell_type": "code",
   "execution_count": 20,
   "id": "d267305e",
   "metadata": {},
   "outputs": [
    {
     "name": "stdout",
     "output_type": "stream",
     "text": [
      "[Document(metadata={'source': '../data/text_files/python_intro.txt'}, page_content='Python Programming Introduction\\n\\nPython is a high-level, interpreted programming language known for its simplicity and readability.\\nCreated by Guido van Rossum and first released in 1991, Python has become one of the most popular\\nprogramming languages in the world.\\n\\nKey Features:\\n- Easy to learn and use\\n- Extensive standard library\\n- Cross-platform compatibility\\n- Strong community support\\n\\nPython is widely used in web development, data science, artificial intelligence, and automation.')]\n"
     ]
    }
   ],
   "source": [
    "### TextLoader\n",
    "#from langchain.document_loaders import TextLoader\n",
    "from langchain_community.document_loaders import TextLoader\n",
    "loader = TextLoader('../data/text_files/python_intro.txt',encoding=\"utf-8\")\n",
    "document=loader.load()\n",
    "print(document)"
   ]
  },
  {
   "cell_type": "code",
   "execution_count": 22,
   "id": "6d887451",
   "metadata": {},
   "outputs": [
    {
     "data": {
      "text/plain": [
       "[Document(metadata={'source': '..\\\\data\\\\text_files\\\\machine_learning.txt'}, page_content='Machine Learning Basics\\n\\nMachine learning is a subset of artificial intelligence that enables systems to learn and improve\\nfrom experience without being explicitly programmed. It focuses on developing computer programs\\nthat can access data and use it to learn for themselves.\\n\\nTypes of Machine Learning:\\n1. Supervised Learning: Learning with labeled data\\n2. Unsupervised Learning: Finding patterns in unlabeled data\\n3. Reinforcement Learning: Learning through rewards and penalties\\n\\nApplications include image recognition, speech processing, and recommendation systems\\n\\n\\n    '),\n",
       " Document(metadata={'source': '..\\\\data\\\\text_files\\\\python_intro.txt'}, page_content='Python Programming Introduction\\n\\nPython is a high-level, interpreted programming language known for its simplicity and readability.\\nCreated by Guido van Rossum and first released in 1991, Python has become one of the most popular\\nprogramming languages in the world.\\n\\nKey Features:\\n- Easy to learn and use\\n- Extensive standard library\\n- Cross-platform compatibility\\n- Strong community support\\n\\nPython is widely used in web development, data science, artificial intelligence, and automation.')]"
      ]
     },
     "execution_count": 22,
     "metadata": {},
     "output_type": "execute_result"
    }
   ],
   "source": [
    "### Directry Loader \n",
    "from langchain_community.document_loaders import DirectoryLoader\n",
    "\n",
    "## Load all the text files from the directory \n",
    "dir_loader = DirectoryLoader(\n",
    "    \"../data/text_files\",\n",
    "    glob=\"**/*.txt\", ## Pattern to match files\n",
    "    loader_cls=TextLoader,\n",
    "    loader_kwargs={'encoding':'utf-8'},\n",
    "    show_progress=False\n",
    ")\n",
    "documents=dir_loader.load()\n",
    "documents\n",
    " "
   ]
  },
  {
   "cell_type": "code",
   "execution_count": 24,
   "id": "f188878a",
   "metadata": {},
   "outputs": [
    {
     "data": {
      "text/plain": [
       "[Document(metadata={'producer': 'ReportLab PDF Library - www.reportlab.com', 'creator': '(unspecified)', 'creationdate': '2025-09-25T21:05:59+00:00', 'source': '..\\\\data\\\\pdf\\\\Cover_Letter_Fatma_Fendri.pdf', 'file_path': '..\\\\data\\\\pdf\\\\Cover_Letter_Fatma_Fendri.pdf', 'total_pages': 1, 'format': 'PDF 1.4', 'title': '(anonymous)', 'author': '(anonymous)', 'subject': '(unspecified)', 'keywords': '', 'moddate': '2025-09-25T21:05:59+00:00', 'trapped': '', 'modDate': \"D:20250925210559+00'00'\", 'creationDate': \"D:20250925210559+00'00'\", 'page': 0}, page_content=\"Fatma Fendri\\nCurd-Jürgens-Str. 14\\n81739 München\\nI fendrifatma2@gmail.com | I +49 151 58333426\\nCHECK24 Vergleichsportal Mietwagen GmbH\\nAugsburg\\nMünchen, den 25. September 2025\\nApplication for (Junior) Data Scientist (m/w/d) – Fokus auf LLMs und GenAI\\nDear Hiring Team,\\nI am excited to apply for the position of (Junior) Data Scientist ‒ Fokus auf Large Language\\nModels (LLMs) und GenAI at CHECK24. With a strong academic background in software\\nengineering and practical experience in Machine Learning, NLP, and LLMs, I am eager to\\ncontribute my expertise to further enhance your Mietwagenvergleich product.\\nDuring my end-of-study internship at Neofacto Luxembourg, I worked extensively on the\\nAira (AI Review Assistant) project, where I implemented and evaluated NLP and LLM models,\\ncontributed to the transition from OpenAI/GPT to LLAMA, and applied techniques such as\\nembedding, summarization, and classification. I also gained hands-on experience with\\nLangChain, PyTorch, TensorBoard, and dataset management for fine-tuning. In addition, I\\nam skilled in Python, Git/GitLab, and API development, and I have worked in agile Scrum\\nteams using Jira, all of which align well with the requirements at CHECK24.\\nBeyond technical expertise, I am highly motivated by the opportunity to bring\\nstate-of-the-art AI methods into real-world applications that reach millions of users. The\\nchallenge of not only building advanced models but also integrating and monitoring them in\\nproduction systems excites me greatly. I see CHECK24's dynamic and collaborative\\nenvironment as the perfect place to combine my analytical mindset, problem-solving\\nabilities, and enthusiasm for Generative AI with tangible customer impact.\\nI am fluent in English, French, and Arabic, and I am currently learning German to further\\nstrengthen my communication skills in a professional context.\\nI would welcome the opportunity to discuss how my skills and motivation match your vision\\nat CHECK24. Thank you very much for considering my application.\\nKind regards,\\nFatma Fendri\"),\n",
       " Document(metadata={'producer': 'Skia/PDF m143 Google Docs Renderer', 'creator': '', 'creationdate': '', 'source': '..\\\\data\\\\pdf\\\\DAX Calculation.pdf', 'file_path': '..\\\\data\\\\pdf\\\\DAX Calculation.pdf', 'total_pages': 1, 'format': 'PDF 1.4', 'title': 'DAX Calculation', 'author': '', 'subject': '', 'keywords': '', 'moddate': '', 'trapped': '', 'modDate': '', 'creationDate': '', 'page': 0}, page_content='DAX Calculation  \\n \\nTotal Revenue = SUM(pizza_sales[total_price]) \\n \\n \\n \\nTotal Orders = DISTINCTCOUNT(pizza_sales[order_id]) \\n \\n \\nAvg Order Value = [Total Revenue]/[Total Orders] \\n \\n \\nTotal Pizzas sold = SUM(pizza_sales[quantity]) \\n \\n \\nAvg Pizzas Per Order = [Total Pizzas sold] / [Total Orders]')]"
      ]
     },
     "execution_count": 24,
     "metadata": {},
     "output_type": "execute_result"
    }
   ],
   "source": [
    "### PDF Loader \n",
    "from langchain_community.document_loaders import PyPDFLoader ,PyMuPDFLoader\n",
    "\n",
    "## Load all the text files from the directory \n",
    "dir_loader = DirectoryLoader(\n",
    "    \"../data/pdf\",\n",
    "    glob=\"**/*.pdf\", ## Pattern to match files\n",
    "    loader_cls=PyMuPDFLoader,\n",
    "    show_progress=False\n",
    ")\n",
    "pdf_documents=dir_loader.load()\n",
    "pdf_documents"
   ]
  },
  {
   "cell_type": "code",
   "execution_count": 25,
   "id": "1f7c9dcd",
   "metadata": {},
   "outputs": [
    {
     "data": {
      "text/plain": [
       "langchain_core.documents.base.Document"
      ]
     },
     "execution_count": 25,
     "metadata": {},
     "output_type": "execute_result"
    }
   ],
   "source": [
    "type(pdf_documents[0])"
   ]
  },
  {
   "cell_type": "code",
   "execution_count": null,
   "id": "e31dd462",
   "metadata": {},
   "outputs": [],
   "source": []
  }
 ],
 "metadata": {
  "kernelspec": {
   "display_name": "RAG_Project",
   "language": "python",
   "name": "python3"
  },
  "language_info": {
   "codemirror_mode": {
    "name": "ipython",
    "version": 3
   },
   "file_extension": ".py",
   "mimetype": "text/x-python",
   "name": "python",
   "nbconvert_exporter": "python",
   "pygments_lexer": "ipython3",
   "version": "3.13.2"
  }
 },
 "nbformat": 4,
 "nbformat_minor": 5
}
